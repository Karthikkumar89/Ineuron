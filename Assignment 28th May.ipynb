{
 "cells": [
  {
   "cell_type": "raw",
   "metadata": {},
   "source": [
    "#Q1:\n",
    "ineuron\n",
    "ineuron ineuron\n",
    "ineuron ineuron ineuron\n",
    "ineuron ineuron ineuron ineuron"
   ]
  },
  {
   "cell_type": "code",
   "execution_count": null,
   "metadata": {},
   "outputs": [],
   "source": [
    "n=4\n",
    "a='ineuron'"
   ]
  },
  {
   "cell_type": "code",
   "execution_count": null,
   "metadata": {},
   "outputs": [],
   "source": [
    "for i in range(0,n):\n",
    "    for j in range(0,i+1):\n",
    "        print(a, end=' ')\n",
    "    print()"
   ]
  },
  {
   "cell_type": "code",
   "execution_count": null,
   "metadata": {},
   "outputs": [],
   "source": []
  },
  {
   "cell_type": "code",
   "execution_count": null,
   "metadata": {},
   "outputs": [],
   "source": [
    "#Q2:\n",
    "              ineuron       \n",
    "       ineuron       ineuron       \n",
    "ineuron       ineuron       ineuron       \n",
    "       ineuron       ineuron       \n",
    "              ineuron  "
   ]
  },
  {
   "cell_type": "code",
   "execution_count": null,
   "metadata": {},
   "outputs": [],
   "source": [
    "a='ineuron'\n",
    "n=7 # number of rows\n",
    "o=4 # Middle row"
   ]
  },
  {
   "cell_type": "code",
   "execution_count": null,
   "metadata": {},
   "outputs": [],
   "source": [
    "for i in range(0,n):\n",
    "    if i<o:\n",
    "        for j in range(0,o-1-i):\n",
    "            print(' '*len(a),end=''*len(a))\n",
    "        for j in range(0,i+1):\n",
    "            print(a,end=' '*len(a))\n",
    "        print()\n",
    "    else:\n",
    "        for j in range(0,i-o+1):\n",
    "            print(\" \"*len(a), end=''*len(a))\n",
    "        for j in range(0,n-i):\n",
    "            print(a,end=' '*len(a))\n",
    "        print()"
   ]
  },
  {
   "cell_type": "code",
   "execution_count": 2,
   "metadata": {},
   "outputs": [],
   "source": [
    "l=[[1,2,3,4], (2,3,4,5,6), (3,4,5,6,7), set([23,4,5,45,4,4,5,45,45,4,5]), {'K1':'sudh','k2':'ineuron','k3':'kumar',3:6,7:8},['ineuron','data science']]"
   ]
  },
  {
   "cell_type": "code",
   "execution_count": 3,
   "metadata": {},
   "outputs": [
    {
     "name": "stdout",
     "output_type": "stream",
     "text": [
      "[1, 2, 3, 4]\n",
      "\n",
      "['ineuron', 'data science']\n",
      "\n"
     ]
    }
   ],
   "source": [
    "#Q3: Extract all list entity\n",
    "for i in l:\n",
    "    if type(i)==list:\n",
    "        print(i)\n",
    "        print()"
   ]
  },
  {
   "cell_type": "code",
   "execution_count": 4,
   "metadata": {},
   "outputs": [
    {
     "name": "stdout",
     "output_type": "stream",
     "text": [
      "{'K1': 'sudh', 'k2': 'ineuron', 'k3': 'kumar', 3: 6, 7: 8}\n"
     ]
    }
   ],
   "source": [
    "#Q4 Extract Dictionary\n",
    "for i in l:\n",
    "    if type(i)==dict:\n",
    "        print(i)"
   ]
  },
  {
   "cell_type": "code",
   "execution_count": 5,
   "metadata": {},
   "outputs": [
    {
     "name": "stdout",
     "output_type": "stream",
     "text": [
      "(2, 3, 4, 5, 6)\n",
      "\n",
      "(3, 4, 5, 6, 7)\n",
      "\n"
     ]
    }
   ],
   "source": [
    "#Q5 Extract tuples\n",
    "for i in l:\n",
    "    if type(i)==tuple:\n",
    "        print(i)\n",
    "        print()"
   ]
  },
  {
   "cell_type": "code",
   "execution_count": 6,
   "metadata": {},
   "outputs": [
    {
     "data": {
      "text/plain": [
       "[[1, 2, 3, 4],\n",
       " (2, 3, 4, 5, 6),\n",
       " (3, 4, 5, 6, 7),\n",
       " {4, 5, 23, 45},\n",
       " {'K1': 'sudh', 'k2': 'ineuron', 'k3': 'kumar', 3: 6, 7: 8},\n",
       " ['ineuron', 'data science']]"
      ]
     },
     "execution_count": 6,
     "metadata": {},
     "output_type": "execute_result"
    }
   ],
   "source": [
    "l"
   ]
  },
  {
   "cell_type": "code",
   "execution_count": 7,
   "metadata": {},
   "outputs": [
    {
     "name": "stdout",
     "output_type": "stream",
     "text": [
      "1\n",
      "2\n",
      "3\n",
      "4\n",
      "2\n",
      "3\n",
      "4\n",
      "5\n",
      "6\n",
      "3\n",
      "4\n",
      "5\n",
      "6\n",
      "7\n",
      "45\n",
      "4\n",
      "5\n",
      "23\n",
      "3\n",
      "6\n",
      "7\n",
      "8\n"
     ]
    }
   ],
   "source": [
    "#Q6: Extract all numeric data incuding keys,values\n",
    "l1=[]\n",
    "for i in l:\n",
    "    if type(i)!=dict:\n",
    "        for j in i:\n",
    "            if str(j).isnumeric():\n",
    "                print(j)\n",
    "      \n",
    "    elif type(i)==dict:\n",
    "        for k,v in i.items():\n",
    "            if type(k)==int or type(v)==int:\n",
    "                print(k)\n",
    "                print(v)"
   ]
  },
  {
   "cell_type": "code",
   "execution_count": 8,
   "metadata": {},
   "outputs": [],
   "source": [
    "#Q7:sum of all numerical data\n",
    "l1=[]\n",
    "l2=[]\n",
    "l3=[]\n",
    "\n",
    "for i in l:\n",
    "    if type(i)!=dict:\n",
    "        for j in i:\n",
    "            if str(j).isnumeric():\n",
    "                l1.append(j)\n",
    "      \n",
    "    elif type(i)==dict:\n",
    "        for k,v in i.items():\n",
    "            if type(k)==int or type(v)==int:\n",
    "                l2.append(k)\n",
    "                l3.append(v)\n",
    "            "
   ]
  },
  {
   "cell_type": "code",
   "execution_count": 9,
   "metadata": {},
   "outputs": [],
   "source": [
    "l4=l1+l2+l3"
   ]
  },
  {
   "cell_type": "code",
   "execution_count": 10,
   "metadata": {},
   "outputs": [
    {
     "data": {
      "text/plain": [
       "[1, 2, 3, 4, 2, 3, 4, 5, 6, 3, 4, 5, 6, 7, 45, 4, 5, 23, 3, 7, 6, 8]"
      ]
     },
     "execution_count": 10,
     "metadata": {},
     "output_type": "execute_result"
    }
   ],
   "source": [
    "l4"
   ]
  },
  {
   "cell_type": "code",
   "execution_count": 11,
   "metadata": {},
   "outputs": [
    {
     "data": {
      "text/plain": [
       "156"
      ]
     },
     "execution_count": 11,
     "metadata": {},
     "output_type": "execute_result"
    }
   ],
   "source": [
    "sum(l4)"
   ]
  },
  {
   "cell_type": "code",
   "execution_count": 12,
   "metadata": {},
   "outputs": [],
   "source": [
    "#Q7:filter odd values out of list l4\n",
    "l5=[]\n",
    "for i in l4:\n",
    "    if i%2 !=0:\n",
    "        l5.append(i)\n",
    "        "
   ]
  },
  {
   "cell_type": "code",
   "execution_count": 13,
   "metadata": {},
   "outputs": [
    {
     "data": {
      "text/plain": [
       "[1, 3, 3, 5, 3, 5, 7, 45, 5, 23, 3, 7]"
      ]
     },
     "execution_count": 13,
     "metadata": {},
     "output_type": "execute_result"
    }
   ],
   "source": [
    "l5"
   ]
  },
  {
   "cell_type": "code",
   "execution_count": 14,
   "metadata": {},
   "outputs": [
    {
     "data": {
      "text/plain": [
       "[[1, 2, 3, 4],\n",
       " (2, 3, 4, 5, 6),\n",
       " (3, 4, 5, 6, 7),\n",
       " {4, 5, 23, 45},\n",
       " {'K1': 'sudh', 'k2': 'ineuron', 'k3': 'kumar', 3: 6, 7: 8},\n",
       " ['ineuron', 'data science']]"
      ]
     },
     "execution_count": 14,
     "metadata": {},
     "output_type": "execute_result"
    }
   ],
   "source": [
    "l"
   ]
  },
  {
   "cell_type": "code",
   "execution_count": 27,
   "metadata": {},
   "outputs": [
    {
     "name": "stdout",
     "output_type": "stream",
     "text": [
      "ineuron\n",
      "ineuron\n"
     ]
    }
   ],
   "source": [
    "#Q8:Extract ineuron from data\n",
    "for i in l:\n",
    "    if type(i)==dict:\n",
    "        for k,v in i.items():\n",
    "            if k=='ineuron': \n",
    "                print(k)\n",
    "            if v=='ineuron':\n",
    "                print(v)\n",
    "    elif type(i)!=dict:\n",
    "        for j in i:\n",
    "            if j=='ineuron':\n",
    "                print(j)\n",
    "                "
   ]
  },
  {
   "cell_type": "code",
   "execution_count": 9,
   "metadata": {},
   "outputs": [],
   "source": [
    "#Q9: Number of occurennces of all data \n",
    "\n",
    "l=[[1,2,3,4], (2,3,4,5,6), (3,4,5,6,7), set([23,4,5,45,4,4,5,45,45,4,5]), {'K1':'sudh','k2':'ineuron','k3':'kumar',3:6,7:8},['ineuron','data science']]"
   ]
  },
  {
   "cell_type": "code",
   "execution_count": 53,
   "metadata": {},
   "outputs": [
    {
     "name": "stdout",
     "output_type": "stream",
     "text": [
      "1 kumar   \n",
      "\n",
      "1 1   \n",
      "\n",
      "4 3   \n",
      "\n",
      "1 k2   \n",
      "\n",
      "2 2   \n",
      "\n",
      "3 6   \n",
      "\n",
      "2 7   \n",
      "\n",
      "1 8   \n",
      "\n",
      "4 4   \n",
      "\n",
      "3 5   \n",
      "\n",
      "1 45   \n",
      "\n",
      "1 data science   \n",
      "\n",
      "2 ineuron   \n",
      "\n",
      "1 23   \n",
      "\n",
      "1 sudh   \n",
      "\n",
      "1 k3   \n",
      "\n",
      "1 K1   \n",
      "\n"
     ]
    }
   ],
   "source": [
    "l1=[]#dict keys\n",
    "l2=[]#dict values\n",
    "l3=[]#elements other than dict\n",
    "l4=[]#Total list (l1+l2+l3)\n",
    "\n",
    "\n",
    "for i in l:\n",
    "    if type(i)==dict:\n",
    "        for k,v in i.items():\n",
    "            l1.append(k)\n",
    "            l2.append(v)\n",
    "    elif type(i)!=dict:\n",
    "        for j in i:\n",
    "            l3.append(j)\n",
    "l4=l1+l2+l3 # unwrapped main list\n",
    "s=list(set(l4)) # unique value list        \n",
    "\n",
    "for i in s:\n",
    "    print(l4.count(i),i, end= '   ')#occurences of each element\n",
    "    print('\\n')"
   ]
  },
  {
   "cell_type": "code",
   "execution_count": 73,
   "metadata": {},
   "outputs": [
    {
     "data": {
      "text/plain": [
       "5"
      ]
     },
     "execution_count": 73,
     "metadata": {},
     "output_type": "execute_result"
    }
   ],
   "source": [
    "#Q10- Number of keys in dict element\n",
    "l5=[]\n",
    "for i in l:\n",
    "    if type(i)==dict:\n",
    "        for j in i:\n",
    "            l5.append(j)# list for keys in dictionary\n",
    "l5\n",
    "len(l5)# Keys count\n",
    "            \n",
    "        "
   ]
  },
  {
   "cell_type": "code",
   "execution_count": 77,
   "metadata": {},
   "outputs": [
    {
     "name": "stdout",
     "output_type": "stream",
     "text": [
      "K1\n",
      "sudh\n",
      "k2\n",
      "ineuron\n",
      "k3\n",
      "kumar\n",
      "ineuron\n",
      "data science\n"
     ]
    }
   ],
   "source": [
    "#Q11: filter all string data\n",
    "for i in l:\n",
    "    if type(i)==dict:\n",
    "        for k,v in i.items():\n",
    "            if type(k)==str: \n",
    "                print(k)\n",
    "            if type(v)==str:\n",
    "                print(v)\n",
    "    elif type(i)!=dict:\n",
    "        for j in i:\n",
    "            if type(j)==str:\n",
    "                print(j)"
   ]
  },
  {
   "cell_type": "code",
   "execution_count": 89,
   "metadata": {},
   "outputs": [
    {
     "name": "stdout",
     "output_type": "stream",
     "text": [
      "K1\n",
      "k2\n",
      "k3\n",
      "sudh\n",
      "ineuron\n",
      "kumar\n",
      "ineuron\n"
     ]
    }
   ],
   "source": [
    "#Q12: Filter alpha numeric data\n",
    "l4 #Main list un wrapped\n",
    "\n",
    "for i in l4:\n",
    "    if type(i)==str:\n",
    "        if i.isalnum():\n",
    "            print(i)\n",
    "    \n"
   ]
  },
  {
   "cell_type": "code",
   "execution_count": 113,
   "metadata": {},
   "outputs": [
    {
     "data": {
      "text/plain": [
       "['K1',\n",
       " 'k2',\n",
       " 'k3',\n",
       " 3,\n",
       " 7,\n",
       " 'sudh',\n",
       " 'ineuron',\n",
       " 'kumar',\n",
       " 6,\n",
       " 8,\n",
       " 1,\n",
       " 2,\n",
       " 3,\n",
       " 4,\n",
       " 2,\n",
       " 3,\n",
       " 4,\n",
       " 5,\n",
       " 6,\n",
       " 3,\n",
       " 4,\n",
       " 5,\n",
       " 6,\n",
       " 7,\n",
       " 45,\n",
       " 4,\n",
       " 5,\n",
       " 23,\n",
       " 'ineuron',\n",
       " 'data science']"
      ]
     },
     "execution_count": 113,
     "metadata": {},
     "output_type": "execute_result"
    }
   ],
   "source": [
    "#Q15: Unwrap list\n",
    "l4"
   ]
  },
  {
   "cell_type": "code",
   "execution_count": 200,
   "metadata": {},
   "outputs": [
    {
     "name": "stdout",
     "output_type": "stream",
     "text": [
      "24\n",
      "\n",
      "720\n",
      "\n",
      "2520\n",
      "\n",
      "20700\n",
      "\n",
      "1\n",
      "\n"
     ]
    }
   ],
   "source": [
    "#Q14: Multiplication of numeric value in the individualcollection  inside data set\n",
    "\n",
    "for i in l:\n",
    "    z=1\n",
    "    if type(i)!=dict:\n",
    "        \n",
    "        for j in i:\n",
    "            \n",
    "            k=z\n",
    "            if type(j)==int or type(j)==float:\n",
    "                z=j*k\n",
    "        print(z)\n",
    "        print()\n",
    "            "
   ]
  },
  {
   "cell_type": "code",
   "execution_count": null,
   "metadata": {},
   "outputs": [],
   "source": []
  }
 ],
 "metadata": {
  "kernelspec": {
   "display_name": "Python 3",
   "language": "python",
   "name": "python3"
  },
  "language_info": {
   "codemirror_mode": {
    "name": "ipython",
    "version": 3
   },
   "file_extension": ".py",
   "mimetype": "text/x-python",
   "name": "python",
   "nbconvert_exporter": "python",
   "pygments_lexer": "ipython3",
   "version": "3.7.4"
  }
 },
 "nbformat": 4,
 "nbformat_minor": 2
}
